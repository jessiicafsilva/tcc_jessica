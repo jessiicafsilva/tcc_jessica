{
 "cells": [
  {
   "cell_type": "markdown",
   "metadata": {},
   "source": [
    "### Import dos pacotes necessários"
   ]
  },
  {
   "cell_type": "code",
   "execution_count": 121,
   "metadata": {},
   "outputs": [],
   "source": [
    "#### Pacotes Básicos ####\n",
    "import sklearn\n",
    "import pandas as pd\n",
    "import numpy as np\n",
    "from numpy import mean\n",
    "from sklearn.datasets import make_classification\n",
    "from sklearn.model_selection import train_test_split\n",
    "from imblearn.pipeline import Pipeline\n",
    "\n",
    "#### Pacotes de Modelagem ####\n",
    "\n",
    "from sklearn.linear_model import LogisticRegression\n",
    "from sklearn.discriminant_analysis import LinearDiscriminantAnalysis\n",
    "from sklearn.neighbors import KNeighborsClassifier\n",
    "from sklearn.naive_bayes import GaussianNB\n",
    "from sklearn.tree import DecisionTreeClassifier\n",
    "from sklearn.svm import SVC\n",
    "\n",
    "#### Pacotes para métricas a avalição de modelo ###\n",
    "\n",
    "from sklearn import model_selection\n",
    "from sklearn.feature_selection import SelectFromModel\n",
    "from sklearn.utils import class_weight\n",
    "from sklearn.metrics import classification_report\n",
    "from sklearn.metrics import confusion_matrix\n",
    "from scipy.stats import ks_2samp\n",
    "from time import time\n",
    "from sklearn.metrics import f1_score, roc_auc_score, accuracy_score, precision_score, recall_score, make_scorer, log_loss\n",
    "from sklearn.metrics import roc_curve\n",
    "\n",
    "#### Pacotes Gráficos ####\n",
    "\n",
    "import matplotlib.pyplot as plt\n",
    "import seaborn as sns\n",
    "import sweetviz as sv\n",
    "\n",
    "#### Pacotes para Balanceamento de amostra ####\n",
    "from imblearn.under_sampling import RandomUnderSampler"
   ]
  },
  {
   "cell_type": "markdown",
   "metadata": {},
   "source": [
    "### Import dos dados"
   ]
  },
  {
   "cell_type": "code",
   "execution_count": 9,
   "metadata": {},
   "outputs": [],
   "source": [
    "arquivo = pd.read_csv(\"creditcard.csv\")"
   ]
  },
  {
   "cell_type": "code",
   "execution_count": 10,
   "metadata": {},
   "outputs": [
    {
     "data": {
      "text/html": [
       "<div>\n",
       "<style scoped>\n",
       "    .dataframe tbody tr th:only-of-type {\n",
       "        vertical-align: middle;\n",
       "    }\n",
       "\n",
       "    .dataframe tbody tr th {\n",
       "        vertical-align: top;\n",
       "    }\n",
       "\n",
       "    .dataframe thead th {\n",
       "        text-align: right;\n",
       "    }\n",
       "</style>\n",
       "<table border=\"1\" class=\"dataframe\">\n",
       "  <thead>\n",
       "    <tr style=\"text-align: right;\">\n",
       "      <th></th>\n",
       "      <th>Time</th>\n",
       "      <th>V1</th>\n",
       "      <th>V2</th>\n",
       "      <th>V3</th>\n",
       "      <th>V4</th>\n",
       "      <th>V5</th>\n",
       "      <th>V6</th>\n",
       "      <th>V7</th>\n",
       "      <th>V8</th>\n",
       "      <th>V9</th>\n",
       "      <th>...</th>\n",
       "      <th>V21</th>\n",
       "      <th>V22</th>\n",
       "      <th>V23</th>\n",
       "      <th>V24</th>\n",
       "      <th>V25</th>\n",
       "      <th>V26</th>\n",
       "      <th>V27</th>\n",
       "      <th>V28</th>\n",
       "      <th>Amount</th>\n",
       "      <th>Class</th>\n",
       "    </tr>\n",
       "  </thead>\n",
       "  <tbody>\n",
       "    <tr>\n",
       "      <th>0</th>\n",
       "      <td>0.0</td>\n",
       "      <td>-1.359807</td>\n",
       "      <td>-0.072781</td>\n",
       "      <td>2.536347</td>\n",
       "      <td>1.378155</td>\n",
       "      <td>-0.338321</td>\n",
       "      <td>0.462388</td>\n",
       "      <td>0.239599</td>\n",
       "      <td>0.098698</td>\n",
       "      <td>0.363787</td>\n",
       "      <td>...</td>\n",
       "      <td>-0.018307</td>\n",
       "      <td>0.277838</td>\n",
       "      <td>-0.110474</td>\n",
       "      <td>0.066928</td>\n",
       "      <td>0.128539</td>\n",
       "      <td>-0.189115</td>\n",
       "      <td>0.133558</td>\n",
       "      <td>-0.021053</td>\n",
       "      <td>149.62</td>\n",
       "      <td>0</td>\n",
       "    </tr>\n",
       "    <tr>\n",
       "      <th>1</th>\n",
       "      <td>0.0</td>\n",
       "      <td>1.191857</td>\n",
       "      <td>0.266151</td>\n",
       "      <td>0.166480</td>\n",
       "      <td>0.448154</td>\n",
       "      <td>0.060018</td>\n",
       "      <td>-0.082361</td>\n",
       "      <td>-0.078803</td>\n",
       "      <td>0.085102</td>\n",
       "      <td>-0.255425</td>\n",
       "      <td>...</td>\n",
       "      <td>-0.225775</td>\n",
       "      <td>-0.638672</td>\n",
       "      <td>0.101288</td>\n",
       "      <td>-0.339846</td>\n",
       "      <td>0.167170</td>\n",
       "      <td>0.125895</td>\n",
       "      <td>-0.008983</td>\n",
       "      <td>0.014724</td>\n",
       "      <td>2.69</td>\n",
       "      <td>0</td>\n",
       "    </tr>\n",
       "    <tr>\n",
       "      <th>2</th>\n",
       "      <td>1.0</td>\n",
       "      <td>-1.358354</td>\n",
       "      <td>-1.340163</td>\n",
       "      <td>1.773209</td>\n",
       "      <td>0.379780</td>\n",
       "      <td>-0.503198</td>\n",
       "      <td>1.800499</td>\n",
       "      <td>0.791461</td>\n",
       "      <td>0.247676</td>\n",
       "      <td>-1.514654</td>\n",
       "      <td>...</td>\n",
       "      <td>0.247998</td>\n",
       "      <td>0.771679</td>\n",
       "      <td>0.909412</td>\n",
       "      <td>-0.689281</td>\n",
       "      <td>-0.327642</td>\n",
       "      <td>-0.139097</td>\n",
       "      <td>-0.055353</td>\n",
       "      <td>-0.059752</td>\n",
       "      <td>378.66</td>\n",
       "      <td>0</td>\n",
       "    </tr>\n",
       "    <tr>\n",
       "      <th>3</th>\n",
       "      <td>1.0</td>\n",
       "      <td>-0.966272</td>\n",
       "      <td>-0.185226</td>\n",
       "      <td>1.792993</td>\n",
       "      <td>-0.863291</td>\n",
       "      <td>-0.010309</td>\n",
       "      <td>1.247203</td>\n",
       "      <td>0.237609</td>\n",
       "      <td>0.377436</td>\n",
       "      <td>-1.387024</td>\n",
       "      <td>...</td>\n",
       "      <td>-0.108300</td>\n",
       "      <td>0.005274</td>\n",
       "      <td>-0.190321</td>\n",
       "      <td>-1.175575</td>\n",
       "      <td>0.647376</td>\n",
       "      <td>-0.221929</td>\n",
       "      <td>0.062723</td>\n",
       "      <td>0.061458</td>\n",
       "      <td>123.50</td>\n",
       "      <td>0</td>\n",
       "    </tr>\n",
       "    <tr>\n",
       "      <th>4</th>\n",
       "      <td>2.0</td>\n",
       "      <td>-1.158233</td>\n",
       "      <td>0.877737</td>\n",
       "      <td>1.548718</td>\n",
       "      <td>0.403034</td>\n",
       "      <td>-0.407193</td>\n",
       "      <td>0.095921</td>\n",
       "      <td>0.592941</td>\n",
       "      <td>-0.270533</td>\n",
       "      <td>0.817739</td>\n",
       "      <td>...</td>\n",
       "      <td>-0.009431</td>\n",
       "      <td>0.798278</td>\n",
       "      <td>-0.137458</td>\n",
       "      <td>0.141267</td>\n",
       "      <td>-0.206010</td>\n",
       "      <td>0.502292</td>\n",
       "      <td>0.219422</td>\n",
       "      <td>0.215153</td>\n",
       "      <td>69.99</td>\n",
       "      <td>0</td>\n",
       "    </tr>\n",
       "  </tbody>\n",
       "</table>\n",
       "<p>5 rows × 31 columns</p>\n",
       "</div>"
      ],
      "text/plain": [
       "   Time        V1        V2        V3        V4        V5        V6        V7  \\\n",
       "0   0.0 -1.359807 -0.072781  2.536347  1.378155 -0.338321  0.462388  0.239599   \n",
       "1   0.0  1.191857  0.266151  0.166480  0.448154  0.060018 -0.082361 -0.078803   \n",
       "2   1.0 -1.358354 -1.340163  1.773209  0.379780 -0.503198  1.800499  0.791461   \n",
       "3   1.0 -0.966272 -0.185226  1.792993 -0.863291 -0.010309  1.247203  0.237609   \n",
       "4   2.0 -1.158233  0.877737  1.548718  0.403034 -0.407193  0.095921  0.592941   \n",
       "\n",
       "         V8        V9  ...       V21       V22       V23       V24       V25  \\\n",
       "0  0.098698  0.363787  ... -0.018307  0.277838 -0.110474  0.066928  0.128539   \n",
       "1  0.085102 -0.255425  ... -0.225775 -0.638672  0.101288 -0.339846  0.167170   \n",
       "2  0.247676 -1.514654  ...  0.247998  0.771679  0.909412 -0.689281 -0.327642   \n",
       "3  0.377436 -1.387024  ... -0.108300  0.005274 -0.190321 -1.175575  0.647376   \n",
       "4 -0.270533  0.817739  ... -0.009431  0.798278 -0.137458  0.141267 -0.206010   \n",
       "\n",
       "        V26       V27       V28  Amount  Class  \n",
       "0 -0.189115  0.133558 -0.021053  149.62      0  \n",
       "1  0.125895 -0.008983  0.014724    2.69      0  \n",
       "2 -0.139097 -0.055353 -0.059752  378.66      0  \n",
       "3 -0.221929  0.062723  0.061458  123.50      0  \n",
       "4  0.502292  0.219422  0.215153   69.99      0  \n",
       "\n",
       "[5 rows x 31 columns]"
      ]
     },
     "execution_count": 10,
     "metadata": {},
     "output_type": "execute_result"
    }
   ],
   "source": [
    "arquivo.head()"
   ]
  },
  {
   "cell_type": "code",
   "execution_count": 11,
   "metadata": {},
   "outputs": [
    {
     "data": {
      "text/plain": [
       "Time      float64\n",
       "V1        float64\n",
       "V2        float64\n",
       "V3        float64\n",
       "V4        float64\n",
       "V5        float64\n",
       "V6        float64\n",
       "V7        float64\n",
       "V8        float64\n",
       "V9        float64\n",
       "V10       float64\n",
       "V11       float64\n",
       "V12       float64\n",
       "V13       float64\n",
       "V14       float64\n",
       "V15       float64\n",
       "V16       float64\n",
       "V17       float64\n",
       "V18       float64\n",
       "V19       float64\n",
       "V20       float64\n",
       "V21       float64\n",
       "V22       float64\n",
       "V23       float64\n",
       "V24       float64\n",
       "V25       float64\n",
       "V26       float64\n",
       "V27       float64\n",
       "V28       float64\n",
       "Amount    float64\n",
       "Class       int64\n",
       "dtype: object"
      ]
     },
     "execution_count": 11,
     "metadata": {},
     "output_type": "execute_result"
    }
   ],
   "source": [
    "arquivo.dtypes"
   ]
  },
  {
   "cell_type": "markdown",
   "metadata": {},
   "source": [
    "### Análise exploratória"
   ]
  },
  {
   "cell_type": "code",
   "execution_count": 12,
   "metadata": {},
   "outputs": [
    {
     "data": {
      "application/vnd.jupyter.widget-view+json": {
       "model_id": "aee9c84552894e489870054c6d7c12d3",
       "version_major": 2,
       "version_minor": 0
      },
      "text/plain": [
       "HBox(children=(HTML(value=''), FloatProgress(value=0.0, layout=Layout(flex='2'), max=32.0), HTML(value='')), l…"
      ]
     },
     "metadata": {},
     "output_type": "display_data"
    },
    {
     "name": "stdout",
     "output_type": "stream",
     "text": [
      "\n"
     ]
    }
   ],
   "source": [
    "exploratoria = sv.analyze(arquivo)"
   ]
  },
  {
   "cell_type": "code",
   "execution_count": 13,
   "metadata": {},
   "outputs": [
    {
     "name": "stdout",
     "output_type": "stream",
     "text": [
      "Report exploratoria.html was generated! NOTEBOOK/COLAB USERS: the web browser MAY not pop up, regardless, the report IS saved in your notebook/colab files.\n"
     ]
    }
   ],
   "source": [
    "exploratoria.show_html('exploratoria.html')"
   ]
  },
  {
   "cell_type": "markdown",
   "metadata": {},
   "source": [
    "##### Comparação Amount - Fraudulentas e não fraudulentas"
   ]
  },
  {
   "cell_type": "code",
   "execution_count": 17,
   "metadata": {},
   "outputs": [],
   "source": [
    "class1 = arquivo.loc[arquivo['Class'] == 1]\n",
    "class0 = arquivo.loc[arquivo['Class'] == 0]"
   ]
  },
  {
   "cell_type": "code",
   "execution_count": 18,
   "metadata": {},
   "outputs": [
    {
     "data": {
      "text/plain": [
       "count     492.000000\n",
       "mean      122.211321\n",
       "std       256.683288\n",
       "min         0.000000\n",
       "25%         1.000000\n",
       "50%         9.250000\n",
       "75%       105.890000\n",
       "max      2125.870000\n",
       "Name: Amount, dtype: float64"
      ]
     },
     "execution_count": 18,
     "metadata": {},
     "output_type": "execute_result"
    }
   ],
   "source": [
    "class1['Amount'].describe()"
   ]
  },
  {
   "cell_type": "code",
   "execution_count": 19,
   "metadata": {},
   "outputs": [
    {
     "data": {
      "text/plain": [
       "count    284315.000000\n",
       "mean         88.291022\n",
       "std         250.105092\n",
       "min           0.000000\n",
       "25%           5.650000\n",
       "50%          22.000000\n",
       "75%          77.050000\n",
       "max       25691.160000\n",
       "Name: Amount, dtype: float64"
      ]
     },
     "execution_count": 19,
     "metadata": {},
     "output_type": "execute_result"
    }
   ],
   "source": [
    "class0['Amount'].describe()"
   ]
  },
  {
   "cell_type": "code",
   "execution_count": 23,
   "metadata": {},
   "outputs": [
    {
     "data": {
      "text/plain": [
       "<AxesSubplot:title={'center':'Amount'}, xlabel='Class'>"
      ]
     },
     "execution_count": 23,
     "metadata": {},
     "output_type": "execute_result"
    },
    {
     "data": {
      "image/png": "[encoded data removed]",
      "text/plain": [
       "<Figure size 600x400 with 1 Axes>"
      ]
     },
     "metadata": {},
     "output_type": "display_data"
    }
   ],
   "source": [
    "arquivo.boxplot(column=['Amount'], by='Class')"
   ]
  },
  {
   "cell_type": "markdown",
   "metadata": {},
   "source": [
    "### Remover as transações duplicadas"
   ]
  },
  {
   "cell_type": "code",
   "execution_count": 24,
   "metadata": {},
   "outputs": [
    {
     "data": {
      "text/plain": [
       "284807"
      ]
     },
     "execution_count": 24,
     "metadata": {},
     "output_type": "execute_result"
    }
   ],
   "source": [
    "len(arquivo)"
   ]
  },
  {
   "cell_type": "code",
   "execution_count": 25,
   "metadata": {},
   "outputs": [],
   "source": [
    "arquivo = arquivo.drop_duplicates()"
   ]
  },
  {
   "cell_type": "code",
   "execution_count": 26,
   "metadata": {},
   "outputs": [
    {
     "data": {
      "text/plain": [
       "283726"
      ]
     },
     "execution_count": 26,
     "metadata": {},
     "output_type": "execute_result"
    }
   ],
   "source": [
    "len(arquivo)"
   ]
  },
  {
   "cell_type": "markdown",
   "metadata": {},
   "source": [
    "### Função para separar treino e teste"
   ]
  },
  {
   "cell_type": "code",
   "execution_count": 27,
   "metadata": {},
   "outputs": [],
   "source": [
    "X = arquivo.drop([\"Time\",\"Class\"],axis = 1)\n",
    "y = arquivo['Class']"
   ]
  },
  {
   "cell_type": "code",
   "execution_count": 55,
   "metadata": {},
   "outputs": [],
   "source": [
    "X_train, X_test, y_train, y_test = train_test_split(X, y, test_size=0.30)"
   ]
  },
  {
   "cell_type": "code",
   "execution_count": 56,
   "metadata": {},
   "outputs": [
    {
     "name": "stdout",
     "output_type": "stream",
     "text": [
      "198608\n",
      "85118\n"
     ]
    }
   ],
   "source": [
    "print(len(X_train))\n",
    "print(len(X_test))"
   ]
  },
  {
   "cell_type": "code",
   "execution_count": 57,
   "metadata": {},
   "outputs": [
    {
     "name": "stdout",
     "output_type": "stream",
     "text": [
      "335\n",
      "198273\n"
     ]
    }
   ],
   "source": [
    "print(list(y_train).count(1))\n",
    "print(list(y_train).count(0))"
   ]
  },
  {
   "cell_type": "code",
   "execution_count": 58,
   "metadata": {},
   "outputs": [
    {
     "name": "stdout",
     "output_type": "stream",
     "text": [
      "138\n",
      "84980\n"
     ]
    }
   ],
   "source": [
    "print(list(y_test).count(1))\n",
    "print(list(y_test).count(0))"
   ]
  },
  {
   "cell_type": "markdown",
   "metadata": {},
   "source": [
    "### Balanceamento da base"
   ]
  },
  {
   "cell_type": "code",
   "execution_count": 59,
   "metadata": {},
   "outputs": [],
   "source": [
    "X_train_ori, Y_train_ori = X_train,y_train"
   ]
  },
  {
   "cell_type": "code",
   "execution_count": 60,
   "metadata": {},
   "outputs": [],
   "source": [
    "undersample = RandomUnderSampler(sampling_strategy='majority')\n",
    "X_train, y_train = undersample.fit_resample(X_train, y_train)    "
   ]
  },
  {
   "cell_type": "code",
   "execution_count": 61,
   "metadata": {},
   "outputs": [
    {
     "name": "stdout",
     "output_type": "stream",
     "text": [
      "335\n",
      "335\n"
     ]
    }
   ],
   "source": [
    "print(list(y_train).count(1))\n",
    "print(list(y_train).count(0))"
   ]
  },
  {
   "cell_type": "markdown",
   "metadata": {},
   "source": [
    "## Regressão logística"
   ]
  },
  {
   "cell_type": "code",
   "execution_count": 98,
   "metadata": {},
   "outputs": [
    {
     "name": "stderr",
     "output_type": "stream",
     "text": [
      "C:\\Anaconda\\lib\\site-packages\\sklearn\\linear_model\\_logistic.py:763: ConvergenceWarning: lbfgs failed to converge (status=1):\n",
      "STOP: TOTAL NO. of ITERATIONS REACHED LIMIT.\n",
      "\n",
      "Increase the number of iterations (max_iter) or scale the data as shown in:\n",
      "    https://scikit-learn.org/stable/modules/preprocessing.html\n",
      "Please also refer to the documentation for alternative solver options:\n",
      "    https://scikit-learn.org/stable/modules/linear_model.html#logistic-regression\n",
      "  n_iter_i = _check_optimize_result(\n"
     ]
    }
   ],
   "source": [
    "logreg_clf = LogisticRegression()\n",
    "logreg_clf.fit(X_train, y_train)\n",
    "y_pred_log = logreg_clf.predict(X_test)"
   ]
  },
  {
   "cell_type": "code",
   "execution_count": 99,
   "metadata": {},
   "outputs": [
    {
     "name": "stdout",
     "output_type": "stream",
     "text": [
      "Ks Amostra de Treino:  0.9253731343283582\n",
      "Ks Amostra de Teste:  0.8344205456697399\n"
     ]
    }
   ],
   "source": [
    "def ks(modelo, X, Y):\n",
    "    #predicao das classes positivas (1) da variável resposta\n",
    "    preds_pos = modelo.predict_proba(X)[:,1] \n",
    "    #separa as probabilidades dado que o evento realmente ocorreu, e dado que o evento não ocorreu\n",
    "    pos_preds_pos = preds_pos[Y == 1]\n",
    "    nul_preds_pos = preds_pos[Y == 0]\n",
    "    #calcula o ks, criando as distribuições acumuladas, e encontrando o ponto maior diferenciação entre elas\n",
    "    ks = ks_2samp(pos_preds_pos, nul_preds_pos)\n",
    "    return(ks.statistic)\n",
    "\n",
    "ks_train = ks(logreg_clf, X_train, y_train)\n",
    "ks_test = ks(logreg_clf, X_test, y_test)\n",
    "\n",
    "print('Ks Amostra de Treino: ', ks_train)\n",
    "print('Ks Amostra de Teste: ', ks_test)"
   ]
  },
  {
   "cell_type": "code",
   "execution_count": 100,
   "metadata": {},
   "outputs": [
    {
     "name": "stdout",
     "output_type": "stream",
     "text": [
      "[[81088    19]\n",
      " [ 3892   119]]\n"
     ]
    }
   ],
   "source": [
    "print(confusion_matrix(y_pred_log, y_test))"
   ]
  },
  {
   "cell_type": "code",
   "execution_count": 101,
   "metadata": {},
   "outputs": [
    {
     "name": "stdout",
     "output_type": "stream",
     "text": [
      "0.9540520218990108\n"
     ]
    }
   ],
   "source": [
    "print(accuracy_score(y_pred_log, y_test))"
   ]
  },
  {
   "cell_type": "code",
   "execution_count": 102,
   "metadata": {},
   "outputs": [
    {
     "data": {
      "text/plain": [
       "0.9082599145237926"
      ]
     },
     "execution_count": 102,
     "metadata": {},
     "output_type": "execute_result"
    }
   ],
   "source": [
    "roc_log = roc_auc_score(y_test, y_pred_log)\n",
    "roc_log"
   ]
  },
  {
   "cell_type": "markdown",
   "metadata": {},
   "source": [
    "## Árvore de decisão"
   ]
  },
  {
   "cell_type": "code",
   "execution_count": 103,
   "metadata": {},
   "outputs": [],
   "source": [
    "clf = DecisionTreeClassifier().fit(X_train, y_train)\n",
    "y_pred_tree = clf.predict(X_test)"
   ]
  },
  {
   "cell_type": "code",
   "execution_count": 104,
   "metadata": {},
   "outputs": [
    {
     "name": "stdout",
     "output_type": "stream",
     "text": [
      "Ks Amostra de Treino:  1.0\n",
      "Ks Amostra de Teste:  0.7778048372848172\n"
     ]
    }
   ],
   "source": [
    "ks_train = ks(clf, X_train, y_train)\n",
    "ks_test = ks(clf, X_test, y_test)\n",
    "\n",
    "print('Ks Amostra de Treino: ', ks_train)\n",
    "print('Ks Amostra de Teste: ', ks_test)"
   ]
  },
  {
   "cell_type": "code",
   "execution_count": 105,
   "metadata": {},
   "outputs": [
    {
     "name": "stdout",
     "output_type": "stream",
     "text": [
      "[[77798    19]\n",
      " [ 7182   119]]\n"
     ]
    }
   ],
   "source": [
    "print(confusion_matrix(y_pred_tree, y_test))"
   ]
  },
  {
   "cell_type": "code",
   "execution_count": 106,
   "metadata": {},
   "outputs": [
    {
     "name": "stdout",
     "output_type": "stream",
     "text": [
      "0.9153997979275829\n"
     ]
    }
   ],
   "source": [
    "print(accuracy_score(y_pred_tree, y_test))"
   ]
  },
  {
   "cell_type": "code",
   "execution_count": 107,
   "metadata": {},
   "outputs": [
    {
     "data": {
      "text/plain": [
       "0.8889024186424086"
      ]
     },
     "execution_count": 107,
     "metadata": {},
     "output_type": "execute_result"
    }
   ],
   "source": [
    "roc_tree = roc_auc_score(y_test, y_pred_tree)\n",
    "roc_tree"
   ]
  },
  {
   "cell_type": "markdown",
   "metadata": {},
   "source": [
    "## Análise de discriminante "
   ]
  },
  {
   "cell_type": "code",
   "execution_count": 108,
   "metadata": {},
   "outputs": [],
   "source": [
    "from sklearn.discriminant_analysis import LinearDiscriminantAnalysis"
   ]
  },
  {
   "cell_type": "code",
   "execution_count": 109,
   "metadata": {},
   "outputs": [],
   "source": [
    "lda = LinearDiscriminantAnalysis()\n",
    "lda.fit(X_train, y_train)\n",
    "y_pred_lda = lda.predict(X_test)"
   ]
  },
  {
   "cell_type": "code",
   "execution_count": 110,
   "metadata": {},
   "outputs": [
    {
     "name": "stdout",
     "output_type": "stream",
     "text": [
      "Ks Amostra de Treino:  0.8776119402985074\n",
      "Ks Amostra de Teste:  0.8528859305343798\n"
     ]
    }
   ],
   "source": [
    "ks_train = ks(lda, X_train, y_train)\n",
    "ks_test = ks(lda, X_test, y_test)\n",
    "\n",
    "print('Ks Amostra de Treino: ', ks_train)\n",
    "print('Ks Amostra de Teste: ', ks_test)"
   ]
  },
  {
   "cell_type": "code",
   "execution_count": 111,
   "metadata": {},
   "outputs": [
    {
     "name": "stdout",
     "output_type": "stream",
     "text": [
      "[[83767    23]\n",
      " [ 1213   115]]\n"
     ]
    }
   ],
   "source": [
    "print(confusion_matrix(y_pred_lda, y_test))"
   ]
  },
  {
   "cell_type": "code",
   "execution_count": 112,
   "metadata": {},
   "outputs": [
    {
     "name": "stdout",
     "output_type": "stream",
     "text": [
      "0.9854789821189408\n"
     ]
    }
   ],
   "source": [
    "print(accuracy_score(y_pred_lda, y_test))"
   ]
  },
  {
   "cell_type": "code",
   "execution_count": 113,
   "metadata": {},
   "outputs": [
    {
     "data": {
      "text/plain": [
       "0.9095296932611595"
      ]
     },
     "execution_count": 113,
     "metadata": {},
     "output_type": "execute_result"
    }
   ],
   "source": [
    "roc_lda = roc_auc_score(y_test, y_pred_lda)\n",
    "roc_lda"
   ]
  },
  {
   "cell_type": "markdown",
   "metadata": {},
   "source": [
    "## Modelo SVM"
   ]
  },
  {
   "cell_type": "code",
   "execution_count": 114,
   "metadata": {},
   "outputs": [],
   "source": [
    "svm = SVC()\n",
    "svm.fit(X_train, y_train)\n",
    "y_pred_svm = svm.predict(X_test)"
   ]
  },
  {
   "cell_type": "code",
   "execution_count": 115,
   "metadata": {},
   "outputs": [
    {
     "name": "stdout",
     "output_type": "stream",
     "text": [
      "[[79407    47]\n",
      " [ 5573    91]]\n"
     ]
    }
   ],
   "source": [
    "print(confusion_matrix(y_pred_svm, y_test))"
   ]
  },
  {
   "cell_type": "code",
   "execution_count": 116,
   "metadata": {},
   "outputs": [
    {
     "name": "stdout",
     "output_type": "stream",
     "text": [
      "0.9339740125472873\n"
     ]
    }
   ],
   "source": [
    "print(accuracy_score(y_pred_svm, y_test))"
   ]
  },
  {
   "cell_type": "code",
   "execution_count": 117,
   "metadata": {},
   "outputs": [
    {
     "data": {
      "text/plain": [
       "0.7969200766761829"
      ]
     },
     "execution_count": 117,
     "metadata": {},
     "output_type": "execute_result"
    }
   ],
   "source": [
    "roc_svm = roc_auc_score(y_test, y_pred_svm)\n",
    "roc_svm"
   ]
  },
  {
   "cell_type": "markdown",
   "metadata": {},
   "source": [
    "## Comparação dos modelos"
   ]
  },
  {
   "cell_type": "code",
   "execution_count": 118,
   "metadata": {},
   "outputs": [],
   "source": [
    "models = pd.DataFrame()\n",
    "modelos = ['Regressão logística', 'Árvore de decisão', 'Análise de discriminante',  'Modelo SVM']\n",
    "roc = [roc_log, roc_tree, roc_lda, roc_svm]\n",
    "\n",
    "models['modelos'] = modelos\n",
    "models['roc'] = roc"
   ]
  },
  {
   "cell_type": "code",
   "execution_count": 119,
   "metadata": {},
   "outputs": [
    {
     "data": {
      "text/html": [
       "<div>\n",
       "<style scoped>\n",
       "    .dataframe tbody tr th:only-of-type {\n",
       "        vertical-align: middle;\n",
       "    }\n",
       "\n",
       "    .dataframe tbody tr th {\n",
       "        vertical-align: top;\n",
       "    }\n",
       "\n",
       "    .dataframe thead th {\n",
       "        text-align: right;\n",
       "    }\n",
       "</style>\n",
       "<table border=\"1\" class=\"dataframe\">\n",
       "  <thead>\n",
       "    <tr style=\"text-align: right;\">\n",
       "      <th></th>\n",
       "      <th>modelos</th>\n",
       "      <th>roc</th>\n",
       "    </tr>\n",
       "  </thead>\n",
       "  <tbody>\n",
       "    <tr>\n",
       "      <th>2</th>\n",
       "      <td>Análise de discriminante</td>\n",
       "      <td>0.909530</td>\n",
       "    </tr>\n",
       "    <tr>\n",
       "      <th>0</th>\n",
       "      <td>Regressão logística</td>\n",
       "      <td>0.908260</td>\n",
       "    </tr>\n",
       "    <tr>\n",
       "      <th>1</th>\n",
       "      <td>Árvore de decisão</td>\n",
       "      <td>0.888902</td>\n",
       "    </tr>\n",
       "    <tr>\n",
       "      <th>3</th>\n",
       "      <td>Modelo SVM</td>\n",
       "      <td>0.796920</td>\n",
       "    </tr>\n",
       "  </tbody>\n",
       "</table>\n",
       "</div>"
      ],
      "text/plain": [
       "                    modelos       roc\n",
       "2  Análise de discriminante  0.909530\n",
       "0       Regressão logística  0.908260\n",
       "1         Árvore de decisão  0.888902\n",
       "3                Modelo SVM  0.796920"
      ]
     },
     "execution_count": 119,
     "metadata": {},
     "output_type": "execute_result"
    }
   ],
   "source": [
    "models.sort_values(by='roc', ascending=False)"
   ]
  },
  {
   "cell_type": "markdown",
   "metadata": {},
   "source": [
    "### Análise de cutoff"
   ]
  },
  {
   "cell_type": "code",
   "execution_count": 118,
   "metadata": {},
   "outputs": [],
   "source": [
    "def tx_por_decil(scores_tr, scores_ts, aux_tr, aux_ts,\n",
    "                y_tr, y_ts):\n",
    "    #separa o score em 10 faixas, criando assim, as faixas dos decis\n",
    "    scores, bins = pd.qcut(scores_tr, q = 10, retbins = True)\n",
    "    \n",
    "    #inicializa as taxas \n",
    "    taxa_tr = list()\n",
    "    taxa_ts = list()\n",
    "\n",
    "    taxa_mau_tr = list()\n",
    "    taxa_mau_ts = list()\n",
    "\n",
    "    final = 9\n",
    "\n",
    "    for i in range(0,10):\n",
    "        #em cada iteração do loop, calcula o percentual de volume, e a taxa de eventos da variável resposta, \n",
    "        #de cada faixa\n",
    "        if i == 0:\n",
    "            taxa_tr.append(sum(aux_tr[(scores_tr > 0) & (scores_tr <= bins[1])])/len(aux_tr))\n",
    "\n",
    "            taxa_ts.append(sum(aux_ts[(scores_ts > 0) & (scores_ts <= bins[1])])/len(aux_ts))\n",
    "\n",
    "\n",
    "            taxa_mau_tr.append(sum(y_tr.loc[np.array((scores_tr > 0) & (scores_tr <= bins[1]))])/\n",
    "                                len(y_tr.loc[np.array((scores_tr > 0) & (scores_tr <= bins[1]))]))\n",
    "\n",
    "            taxa_mau_ts.append(sum(y_ts.loc[np.array((scores_ts > 0) & (scores_ts <= bins[1]))])/\n",
    "                                len(y_ts.loc[np.array((scores_ts > 0) & (scores_ts <= bins[1]))]))\n",
    "\n",
    "        elif i == final:\n",
    "            taxa_tr.append(sum(aux_tr[(scores_tr > bins[i])])/len(aux_tr))\n",
    "\n",
    "            taxa_ts.append(sum(aux_ts[(scores_ts > bins[i])])/len(aux_ts))\n",
    "\n",
    "\n",
    "            taxa_mau_tr.append(sum(y_tr.loc[np.array((scores_tr > bins[i]))])/\n",
    "                                len(y_tr.loc[np.array((scores_tr > bins[i]))]))\n",
    "\n",
    "            taxa_mau_ts.append(sum(y_ts.loc[np.array((scores_ts > bins[i]))])/\n",
    "                                len(y_ts.loc[np.array((scores_ts > bins[i]))]))\n",
    "        else:\n",
    "            taxa_tr.append(sum(aux_tr[(scores_tr > bins[i]) & (scores_tr <= bins[i + 1])])/len(aux_tr))\n",
    "            taxa_ts.append(sum(aux_ts[(scores_ts > bins[i]) & (scores_ts <= bins[i + 1])])/len(aux_ts))\n",
    "\n",
    "            taxa_mau_tr.append(sum(y_tr.loc[np.array((scores_tr > bins[i]) & (scores_tr <= bins[i + 1]))])/\n",
    "                                len(y_tr.loc[np.array((scores_tr > bins[i]) & (scores_tr <= bins[i + 1]))]))\n",
    "\n",
    "\n",
    "            taxa_mau_ts.append(sum(y_ts.loc[np.array((scores_ts > bins[i]) & (scores_ts <= bins[i + 1]))])/\n",
    "                                len(y_ts.loc[np.array((scores_ts > bins[i]) & (scores_ts <= bins[i + 1]))]))\n",
    "\n",
    "    #cria tabelas para serem visualizadas com todos esses dados\n",
    "    taxas_tr = pd.DataFrame(data = {'Faixa': list(scores.categories),\n",
    "                                    '%': taxa_tr,\n",
    "                                    'Taxa de eventos positivos': taxa_mau_tr})\n",
    "    taxas_ts = pd.DataFrame(data = {'Faixa': list(scores.categories),\n",
    "                                     '%': taxa_ts,\n",
    "                                     'Taxa de eventos positivos': taxa_mau_ts})\n",
    "    return(taxas_tr, taxas_ts)\n",
    "\n",
    "\n",
    "tr, ts = tx_por_decil(lda.predict_proba(X_train)[:,1],\n",
    "                           lda.predict_proba(X_test)[:,1], \n",
    "                           np.ones(shape = X_train.shape[0]), \n",
    "                           np.ones(shape = X_test.shape[0]), \n",
    "                           y_train, \n",
    "                           y_test)\n"
   ]
  },
  {
   "cell_type": "code",
   "execution_count": 119,
   "metadata": {},
   "outputs": [
    {
     "data": {
      "text/html": [
       "<div>\n",
       "<style scoped>\n",
       "    .dataframe tbody tr th:only-of-type {\n",
       "        vertical-align: middle;\n",
       "    }\n",
       "\n",
       "    .dataframe tbody tr th {\n",
       "        vertical-align: top;\n",
       "    }\n",
       "\n",
       "    .dataframe thead th {\n",
       "        text-align: right;\n",
       "    }\n",
       "</style>\n",
       "<table border=\"1\" class=\"dataframe\">\n",
       "  <thead>\n",
       "    <tr style=\"text-align: right;\">\n",
       "      <th></th>\n",
       "      <th>Faixa</th>\n",
       "      <th>%</th>\n",
       "      <th>Taxa de eventos positivos</th>\n",
       "    </tr>\n",
       "  </thead>\n",
       "  <tbody>\n",
       "    <tr>\n",
       "      <th>0</th>\n",
       "      <td>(-0.001, 5.109999999999998e-149]</td>\n",
       "      <td>0.100003</td>\n",
       "      <td>0.000000</td>\n",
       "    </tr>\n",
       "    <tr>\n",
       "      <th>1</th>\n",
       "      <td>(5.109999999999998e-149, 1.3799999999999993e-148]</td>\n",
       "      <td>0.099998</td>\n",
       "      <td>0.000000</td>\n",
       "    </tr>\n",
       "    <tr>\n",
       "      <th>2</th>\n",
       "      <td>(1.3799999999999993e-148, 2.4199999999999988e-...</td>\n",
       "      <td>0.099998</td>\n",
       "      <td>0.000000</td>\n",
       "    </tr>\n",
       "    <tr>\n",
       "      <th>3</th>\n",
       "      <td>(2.4199999999999988e-148, 3.899999999999998e-148]</td>\n",
       "      <td>0.100003</td>\n",
       "      <td>0.000050</td>\n",
       "    </tr>\n",
       "    <tr>\n",
       "      <th>4</th>\n",
       "      <td>(3.899999999999998e-148, 6.189999999999997e-148]</td>\n",
       "      <td>0.099998</td>\n",
       "      <td>0.000100</td>\n",
       "    </tr>\n",
       "    <tr>\n",
       "      <th>5</th>\n",
       "      <td>(6.189999999999997e-148, 1.0899999999999994e-147]</td>\n",
       "      <td>0.099998</td>\n",
       "      <td>0.000100</td>\n",
       "    </tr>\n",
       "    <tr>\n",
       "      <th>6</th>\n",
       "      <td>(1.0899999999999994e-147, 2.5899999999999986e-...</td>\n",
       "      <td>0.100003</td>\n",
       "      <td>0.000150</td>\n",
       "    </tr>\n",
       "    <tr>\n",
       "      <th>7</th>\n",
       "      <td>(2.5899999999999986e-147, 1.0399999999999993e-...</td>\n",
       "      <td>0.099998</td>\n",
       "      <td>0.000150</td>\n",
       "    </tr>\n",
       "    <tr>\n",
       "      <th>8</th>\n",
       "      <td>(1.0399999999999993e-146, 1.8099999999999986e-...</td>\n",
       "      <td>0.099998</td>\n",
       "      <td>0.000351</td>\n",
       "    </tr>\n",
       "    <tr>\n",
       "      <th>9</th>\n",
       "      <td>(1.8099999999999986e-145, 1.0]</td>\n",
       "      <td>0.100003</td>\n",
       "      <td>0.015699</td>\n",
       "    </tr>\n",
       "  </tbody>\n",
       "</table>\n",
       "</div>"
      ],
      "text/plain": [
       "                                               Faixa         %  \\\n",
       "0                   (-0.001, 5.109999999999998e-149]  0.100003   \n",
       "1  (5.109999999999998e-149, 1.3799999999999993e-148]  0.099998   \n",
       "2  (1.3799999999999993e-148, 2.4199999999999988e-...  0.099998   \n",
       "3  (2.4199999999999988e-148, 3.899999999999998e-148]  0.100003   \n",
       "4   (3.899999999999998e-148, 6.189999999999997e-148]  0.099998   \n",
       "5  (6.189999999999997e-148, 1.0899999999999994e-147]  0.099998   \n",
       "6  (1.0899999999999994e-147, 2.5899999999999986e-...  0.100003   \n",
       "7  (2.5899999999999986e-147, 1.0399999999999993e-...  0.099998   \n",
       "8  (1.0399999999999993e-146, 1.8099999999999986e-...  0.099998   \n",
       "9                     (1.8099999999999986e-145, 1.0]  0.100003   \n",
       "\n",
       "   Taxa de eventos positivos  \n",
       "0                   0.000000  \n",
       "1                   0.000000  \n",
       "2                   0.000000  \n",
       "3                   0.000050  \n",
       "4                   0.000100  \n",
       "5                   0.000100  \n",
       "6                   0.000150  \n",
       "7                   0.000150  \n",
       "8                   0.000351  \n",
       "9                   0.015699  "
      ]
     },
     "execution_count": 119,
     "metadata": {},
     "output_type": "execute_result"
    }
   ],
   "source": [
    "tr"
   ]
  },
  {
   "cell_type": "code",
   "execution_count": 120,
   "metadata": {},
   "outputs": [
    {
     "data": {
      "text/html": [
       "<div>\n",
       "<style scoped>\n",
       "    .dataframe tbody tr th:only-of-type {\n",
       "        vertical-align: middle;\n",
       "    }\n",
       "\n",
       "    .dataframe tbody tr th {\n",
       "        vertical-align: top;\n",
       "    }\n",
       "\n",
       "    .dataframe thead th {\n",
       "        text-align: right;\n",
       "    }\n",
       "</style>\n",
       "<table border=\"1\" class=\"dataframe\">\n",
       "  <thead>\n",
       "    <tr style=\"text-align: right;\">\n",
       "      <th></th>\n",
       "      <th>Faixa</th>\n",
       "      <th>%</th>\n",
       "      <th>Taxa de eventos positivos</th>\n",
       "    </tr>\n",
       "  </thead>\n",
       "  <tbody>\n",
       "    <tr>\n",
       "      <th>0</th>\n",
       "      <td>(-0.001, 5.109999999999998e-149]</td>\n",
       "      <td>0.099762</td>\n",
       "      <td>0.000000</td>\n",
       "    </tr>\n",
       "    <tr>\n",
       "      <th>1</th>\n",
       "      <td>(5.109999999999998e-149, 1.3799999999999993e-148]</td>\n",
       "      <td>0.098674</td>\n",
       "      <td>0.000000</td>\n",
       "    </tr>\n",
       "    <tr>\n",
       "      <th>2</th>\n",
       "      <td>(1.3799999999999993e-148, 2.4199999999999988e-...</td>\n",
       "      <td>0.097972</td>\n",
       "      <td>0.000000</td>\n",
       "    </tr>\n",
       "    <tr>\n",
       "      <th>3</th>\n",
       "      <td>(2.4199999999999988e-148, 3.899999999999998e-148]</td>\n",
       "      <td>0.099528</td>\n",
       "      <td>0.000000</td>\n",
       "    </tr>\n",
       "    <tr>\n",
       "      <th>4</th>\n",
       "      <td>(3.899999999999998e-148, 6.189999999999997e-148]</td>\n",
       "      <td>0.100371</td>\n",
       "      <td>0.000000</td>\n",
       "    </tr>\n",
       "    <tr>\n",
       "      <th>5</th>\n",
       "      <td>(6.189999999999997e-148, 1.0899999999999994e-147]</td>\n",
       "      <td>0.102454</td>\n",
       "      <td>0.000000</td>\n",
       "    </tr>\n",
       "    <tr>\n",
       "      <th>6</th>\n",
       "      <td>(1.0899999999999994e-147, 2.5899999999999986e-...</td>\n",
       "      <td>0.100944</td>\n",
       "      <td>0.000348</td>\n",
       "    </tr>\n",
       "    <tr>\n",
       "      <th>7</th>\n",
       "      <td>(2.5899999999999986e-147, 1.0399999999999993e-...</td>\n",
       "      <td>0.100769</td>\n",
       "      <td>0.000232</td>\n",
       "    </tr>\n",
       "    <tr>\n",
       "      <th>8</th>\n",
       "      <td>(1.0399999999999993e-146, 1.8099999999999986e-...</td>\n",
       "      <td>0.098463</td>\n",
       "      <td>0.000832</td>\n",
       "    </tr>\n",
       "    <tr>\n",
       "      <th>9</th>\n",
       "      <td>(1.8099999999999986e-145, 1.0]</td>\n",
       "      <td>0.101062</td>\n",
       "      <td>0.017255</td>\n",
       "    </tr>\n",
       "  </tbody>\n",
       "</table>\n",
       "</div>"
      ],
      "text/plain": [
       "                                               Faixa         %  \\\n",
       "0                   (-0.001, 5.109999999999998e-149]  0.099762   \n",
       "1  (5.109999999999998e-149, 1.3799999999999993e-148]  0.098674   \n",
       "2  (1.3799999999999993e-148, 2.4199999999999988e-...  0.097972   \n",
       "3  (2.4199999999999988e-148, 3.899999999999998e-148]  0.099528   \n",
       "4   (3.899999999999998e-148, 6.189999999999997e-148]  0.100371   \n",
       "5  (6.189999999999997e-148, 1.0899999999999994e-147]  0.102454   \n",
       "6  (1.0899999999999994e-147, 2.5899999999999986e-...  0.100944   \n",
       "7  (2.5899999999999986e-147, 1.0399999999999993e-...  0.100769   \n",
       "8  (1.0399999999999993e-146, 1.8099999999999986e-...  0.098463   \n",
       "9                     (1.8099999999999986e-145, 1.0]  0.101062   \n",
       "\n",
       "   Taxa de eventos positivos  \n",
       "0                   0.000000  \n",
       "1                   0.000000  \n",
       "2                   0.000000  \n",
       "3                   0.000000  \n",
       "4                   0.000000  \n",
       "5                   0.000000  \n",
       "6                   0.000348  \n",
       "7                   0.000232  \n",
       "8                   0.000832  \n",
       "9                   0.017255  "
      ]
     },
     "execution_count": 120,
     "metadata": {},
     "output_type": "execute_result"
    }
   ],
   "source": [
    "ts"
   ]
  },
  {
   "cell_type": "code",
   "execution_count": 121,
   "metadata": {},
   "outputs": [
    {
     "name": "stdout",
     "output_type": "stream",
     "text": [
      "Métricas da base de treino:\n",
      "Acurácia:  0.999347926405971\n",
      "Sensibilidade:  0.845360824742268\n",
      "Especificidade:  0.9995730209521131\n",
      "\n",
      "\n",
      "Métricas da base de teste:\n",
      "Acurácia:  0.9992860737567735\n",
      "Sensibilidade:  0.890625\n",
      "Especificidade:  0.9994491003926624\n"
     ]
    }
   ],
   "source": [
    "def calcula_metricas_matriz(mat):\n",
    "    acc = (mat[0,0] + mat[1,1])/sum(sum(mat)) #acurácia\n",
    "    spe = (mat[0,0])/(mat[0,0] + mat[1,0]) #especificidade\n",
    "    sen = (mat[1,1])/(mat[1,1] + mat[0,1]) #sensibilidade\n",
    "    print(\"Acurácia: \", acc)\n",
    "    print(\"Sensibilidade: \", sen)\n",
    "    print(\"Especificidade: \", spe)\n",
    "\n",
    "print(\"Métricas da base de treino:\")\n",
    "mat_train = confusion_matrix(y_train, lda.predict(X_train))\n",
    "calcula_metricas_matriz(mat_train)\n",
    "print(\"\\n\")\n",
    "\n",
    "print(\"Métricas da base de teste:\")\n",
    "mat_test = confusion_matrix(y_test, lda.predict(X_test))\n",
    "calcula_metricas_matriz(mat_test)"
   ]
  }
 ],
 "metadata": {
  "kernelspec": {
   "display_name": "Python 3",
   "language": "python",
   "name": "python3"
  },
  "language_info": {
   "codemirror_mode": {
    "name": "ipython",
    "version": 3
   },
   "file_extension": ".py",
   "mimetype": "text/x-python",
   "name": "python",
   "nbconvert_exporter": "python",
   "pygments_lexer": "ipython3",
   "version": "3.8.5"
  }
 },
 "nbformat": 4,
 "nbformat_minor": 4
}
